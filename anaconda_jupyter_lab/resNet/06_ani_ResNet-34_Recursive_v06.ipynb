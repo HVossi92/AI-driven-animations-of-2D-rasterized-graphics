{
 "cells": [
  {
   "cell_type": "code",
   "execution_count": 15,
   "id": "2eb706f3-ecb5-489c-b1f3-aeae72a8f6a6",
   "metadata": {},
   "outputs": [],
   "source": [
    "import numpy as np\n",
    "from numpy import array\n",
    "import tensorflow as tf\n",
    "from tensorflow import keras\n",
    "from tensorflow.keras import layers\n",
    "import os\n",
    "import matplotlib.pyplot as plt\n",
    "from tensorflow.keras.models import Sequential, load_model, Model, save_model\n",
    "from tensorflow.keras.layers import Conv3DTranspose, Dense, Activation, Flatten, Conv3D, Conv2D, Conv1D, Dropout, MaxPooling2D, LeakyReLU, BatchNormalization, Reshape, InputLayer, Input, ZeroPadding3D, ZeroPadding2D, UpSampling2D, UpSampling3D, MaxPool3D, MaxPooling3D, Dropout\n",
    "from tensorflow.keras.optimizers import Adam\n",
    "from tensorflow import keras\n",
    "from matplotlib import pyplot\n",
    "from tensorflow.keras.datasets import cifar10\n",
    "from tensorflow.keras.utils import to_categorical\n",
    "from tensorflow.keras.models import Sequential\n",
    "from tensorflow.keras.layers import Conv2D\n",
    "from tensorflow.keras.layers import MaxPooling2D\n",
    "from tensorflow.keras.layers import Dense\n",
    "from tensorflow.keras.layers import Flatten\n",
    "from tensorflow.keras.optimizers import SGD\n",
    "import sys\n",
    "\n",
    "NUM_FRAMES = 10\n",
    "RESOLUTION = 32\n",
    "CHANNELS = 1\n",
    "\n",
    "os.environ['TF_CPP_MIN_LOG_LEVEL'] = '2'  # or any {'0', '1', '2'}"
   ]
  },
  {
   "cell_type": "code",
   "execution_count": 2,
   "id": "0cd2f5e9-b3ee-422b-a3cf-f62a4335eb6e",
   "metadata": {},
   "outputs": [],
   "source": [
    "os.environ['TF_CPP_MIN_LOG_LEVEL'] = '2'"
   ]
  },
  {
   "cell_type": "code",
   "execution_count": 3,
   "id": "ff7b34b3-0e8a-4f15-b747-ce08bbf8f66d",
   "metadata": {},
   "outputs": [
    {
     "name": "stdout",
     "output_type": "stream",
     "text": [
      "(10000, 10, 32, 32, 1)\n",
      "(20000, 10, 32, 32, 1)\n",
      "Train data:  (6400, 10, 32, 32, 1)\n"
     ]
    }
   ],
   "source": [
    "# example of horizontal shift image augmentation\n",
    "from numpy import expand_dims\n",
    "from tensorflow.keras.preprocessing.image import load_img\n",
    "from tensorflow.keras.preprocessing.image import img_to_array\n",
    "from tensorflow.keras.preprocessing.image import ImageDataGenerator\n",
    "from matplotlib import pyplot\n",
    "# load the image\n",
    "\n",
    "def load_dataset():    \n",
    "    # Download and load the dataset.\n",
    "    fpath = keras.utils.get_file(\n",
    "        \"moving_mnist.npy\",\n",
    "        \"http://www.cs.toronto.edu/~nitish/unsupervised_video/mnist_test_seq.npy\",\n",
    "    )\n",
    "    dataset = np.load(fpath)    \n",
    "    dataset = np.swapaxes(dataset, 0, 1)\n",
    "    dataset = np.expand_dims(dataset, 4)    \n",
    "    dataset = dataset[:, :, ::2, ::2, :]  \n",
    "    return dataset\n",
    "\n",
    "dataset_20 = load_dataset()\n",
    "dataset0 = dataset_20[:, :10, ...]\n",
    "dataset1 = dataset_20[:, 10:, ...]\n",
    "print(dataset0.shape)\n",
    "dataset = np.concatenate((dataset0, dataset1))\n",
    "print(dataset.shape)\n",
    "dataset = dataset[:8000, ...]\n",
    "# Split into train and validation sets using indexing to optimize memory.\n",
    "indexes = np.arange(dataset.shape[0])\n",
    "np.random.seed(42)\n",
    "np.random.shuffle(indexes)\n",
    "train_index = indexes[: int(0.8 * dataset.shape[0])]\n",
    "val_index = indexes[int(0.8 * dataset.shape[0]) : int(0.95 * dataset.shape[0])]\n",
    "test_index = indexes[int(0.95 * dataset.shape[0]) :]\n",
    "\n",
    "train_dataset = dataset[train_index] / 255.\n",
    "val_dataset = dataset[val_index] / 255.\n",
    "test_dataset = dataset[test_index] / 255.\n",
    "\n",
    "print(\"Train data: \", train_dataset.shape)"
   ]
  },
  {
   "cell_type": "code",
   "execution_count": 4,
   "id": "778215b7-6e65-4293-af55-51668052e575",
   "metadata": {},
   "outputs": [],
   "source": [
    "def create_triad_dataset(dataset):\n",
    "    x_triad_dataset = np.zeros((len(dataset), NUM_FRAMES, 3, RESOLUTION, RESOLUTION, CHANNELS))\n",
    "    y_triad_dataset = np.zeros((len(dataset), NUM_FRAMES, 3, RESOLUTION, RESOLUTION, CHANNELS))\n",
    "    \n",
    "    for i, animation in enumerate(dataset):        \n",
    "        x_triads = create_triad_animation(animation, True)\n",
    "        x_triads = np.concatenate([x_triads, create_single_triad(animation, NUM_FRAMES - 2, NUM_FRAMES - 1, NUM_FRAMES - 1, True)], axis=0)        \n",
    "        x_triads = np.concatenate([create_single_triad(animation, 0, 0, 1, True), x_triads], axis=0)                \n",
    "        x_triad_dataset[i] = x_triads\n",
    "        \n",
    "        y_triads = create_triad_animation(animation, False)\n",
    "        y_triads = np.concatenate([y_triads, create_single_triad(animation, NUM_FRAMES - 2, NUM_FRAMES - 1, NUM_FRAMES - 1, False)], axis=0)        \n",
    "        y_triads = np.concatenate([create_single_triad(animation, 0, 0, 1, False), y_triads], axis=0)                \n",
    "        y_triad_dataset[i] = y_triads\n",
    "    \n",
    "    return x_triad_dataset, y_triad_dataset\n",
    "    \n",
    "def create_triad_animation(animation, train):    \n",
    "    animation_triads = np.zeros((0, 3, RESOLUTION, RESOLUTION, CHANNELS))    \n",
    "    animation_triads = create_triad(animation, animation_triads, 0, len(animation) - 1, train)        \n",
    "    return(animation_triads)\n",
    "\n",
    "def create_triad(animation, animation_triads, start, end, train):        \n",
    "    if start >= end - 1 or end <= start - 1:\n",
    "        return animation_triads  \n",
    "        \n",
    "    middle = end-((end - start)//2)\n",
    "    #print(f\"Start: {start}, Middle: {middle}, End: {end}, Len: {len(animation_triads)}\")\n",
    "    \n",
    "    triad = create_single_triad(animation, start, middle, end, train)\n",
    "        \n",
    "    animation_triads = np.concatenate([animation_triads, triad], axis=0)        \n",
    "    animation_triads = create_triad(animation, animation_triads, start, middle, train)    \n",
    "    animation_triads = create_triad(animation, animation_triads, middle, end, train)\n",
    "    return animation_triads\n",
    "\n",
    "def create_single_triad(animation, start, middle, end, train):\n",
    "    triad = np.zeros((1, 3, RESOLUTION, RESOLUTION, CHANNELS))\n",
    "    triad[0][0] = animation[start]\n",
    "    if train:        \n",
    "        triad[0][1] = 1\n",
    "    else:\n",
    "        triad[0][1] = animation[middle]\n",
    "    triad[0][2] = animation[end]    \n",
    "    return triad"
   ]
  },
  {
   "cell_type": "code",
   "execution_count": 5,
   "id": "a0245a0f-e7c5-4af9-b5fe-5d2216a145ea",
   "metadata": {},
   "outputs": [
    {
     "name": "stdout",
     "output_type": "stream",
     "text": [
      "Size arrays: 3.735552 GB\n",
      "x_train: (6400, 10, 3, 32, 32, 1)\n",
      "y_train: (6400, 10, 3, 32, 32, 1)\n",
      "x_val: (1200, 10, 3, 32, 32, 1)\n",
      "y_val: (1200, 10, 3, 32, 32, 1)\n"
     ]
    }
   ],
   "source": [
    "x_train, y_train = create_triad_dataset(train_dataset[:, :, :, :, :])\n",
    "x_val, y_val = create_triad_dataset(val_dataset[:, :, :, :, :])\n",
    "\n",
    "size = x_train.nbytes + y_train.nbytes + x_val.nbytes + y_val.nbytes\n",
    "print(f\"Size arrays: {size * 1e-9} GB\")\n",
    "\n",
    "print(f\"x_train: {x_train.shape}\")\n",
    "print(f\"y_train: {y_train.shape}\")\n",
    "\n",
    "print(f\"x_val: {x_val.shape}\")\n",
    "print(f\"y_val: {y_val.shape}\")"
   ]
  },
  {
   "cell_type": "code",
   "execution_count": 6,
   "id": "31c09553-4ec3-43fb-8b9c-8467e7968c97",
   "metadata": {},
   "outputs": [
    {
     "data": {
      "text/plain": [
       "0"
      ]
     },
     "execution_count": 6,
     "metadata": {},
     "output_type": "execute_result"
    }
   ],
   "source": [
    "import gc\n",
    "\n",
    "del dataset\n",
    "del train_dataset\n",
    "del val_dataset\n",
    "\n",
    "gc.collect()"
   ]
  },
  {
   "cell_type": "code",
   "execution_count": 7,
   "id": "2367665f-0abd-4587-a1cc-459005795897",
   "metadata": {},
   "outputs": [
    {
     "name": "stdout",
     "output_type": "stream",
     "text": [
      "(64000, 3, 32, 32, 1)\n"
     ]
    },
    {
     "data": {
      "image/png": "[encoded data removed]",
      "text/plain": [
       "<Figure size 360x360 with 3 Axes>"
      ]
     },
     "metadata": {
      "needs_background": "light"
     },
     "output_type": "display_data"
    },
    {
     "data": {
      "image/png": "[encoded data removed]",
      "text/plain": [
       "<Figure size 360x360 with 3 Axes>"
      ]
     },
     "metadata": {
      "needs_background": "light"
     },
     "output_type": "display_data"
    }
   ],
   "source": [
    "def check_triads(triads_x, triads_y):\n",
    "    for i in range(len(triads_x)):\n",
    "        check_triad = triads_x[i]\n",
    "        fig, axes = plt.subplots(1, 3, figsize=(5, 5))\n",
    "        ax = axes.flatten()\n",
    "        ax[0].imshow(check_triad[0], cmap='gray')\n",
    "        ax[1].imshow(check_triad[1], cmap='gray')\n",
    "        ax[2].imshow(check_triad[2], cmap='gray')\n",
    "        plt.show()\n",
    "        check_triad = triads_y[i]\n",
    "        fig, axes = plt.subplots(1, 3, figsize=(5, 5))\n",
    "        ax = axes.flatten()\n",
    "        ax[0].imshow(check_triad[0], cmap='gray')\n",
    "        ax[1].imshow(check_triad[1], cmap='gray')\n",
    "        ax[2].imshow(check_triad[2], cmap='gray')\n",
    "        plt.show()\n",
    "\n",
    "x_train = np.reshape(x_train, (len(x_train) * NUM_FRAMES, 3, RESOLUTION, RESOLUTION, CHANNELS))\n",
    "y_train = np.reshape(y_train, (len(y_train) * NUM_FRAMES, 3, RESOLUTION, RESOLUTION, CHANNELS))\n",
    "x_val = np.reshape(x_val, (len(x_val) * NUM_FRAMES, 3, RESOLUTION, RESOLUTION, CHANNELS))\n",
    "y_val = np.reshape(y_val, (len(y_val) * NUM_FRAMES, 3, RESOLUTION, RESOLUTION, CHANNELS))\n",
    "\n",
    "print(x_train.shape)\n",
    "check_triads(x_train[30:31,:,:,:,:], y_train[30:31,:,:,:,:])"
   ]
  },
  {
   "cell_type": "code",
   "execution_count": 8,
   "id": "6ea928ba-c023-4f3c-bb17-a71cee2d11c5",
   "metadata": {},
   "outputs": [],
   "source": [
    "# Display animation\n",
    "def display_animation(dataset, animation = 0):   \n",
    "    num_frames = 29\n",
    "    start_frame = animation * num_frames\n",
    "    fig, axes = plt.subplots(2, 15, figsize=(25, 5))\n",
    "    ax = axes.flat\n",
    "    for i, data in enumerate(dataset):        \n",
    "        i+=start_frame\n",
    "        if i > num_frames + start_frame:\n",
    "            break        \n",
    "        ax[i-start_frame].imshow(dataset[i][0], cmap='gray') \n",
    "        ax[i-start_frame].set_title(f\"Frame {i}\")\n",
    "        ax[i-start_frame].axis(\"off\")\n",
    "        \n",
    "        #ax[2].imshow(data[2], cmap='gray')        \n",
    "    plt.show()"
   ]
  },
  {
   "cell_type": "code",
   "execution_count": 9,
   "id": "16829749-e764-4ced-917a-56ee0a86c757",
   "metadata": {},
   "outputs": [
    {
     "data": {
      "image/png": "[encoded data removed]",
      "text/plain": [
       "<Figure size 1800x360 with 30 Axes>"
      ]
     },
     "metadata": {
      "needs_background": "light"
     },
     "output_type": "display_data"
    },
    {
     "data": {
      "image/png": "[encoded data removed]",
      "text/plain": [
       "<Figure size 1800x360 with 30 Axes>"
      ]
     },
     "metadata": {
      "needs_background": "light"
     },
     "output_type": "display_data"
    }
   ],
   "source": [
    "ani = 20\n",
    "display_animation(x_train, ani)\n",
    "display_animation(y_train, ani)"
   ]
  },
  {
   "cell_type": "code",
   "execution_count": 10,
   "id": "a0c93982-6fe3-4d83-82fb-5a1c20a1c9ef",
   "metadata": {},
   "outputs": [],
   "source": [
    "# Display animation\n",
    "def display_original_animation(dataset, label='Frame'):             \n",
    "    fig, axes = plt.subplots(1, 10, figsize=(25, 5))\n",
    "    ax = axes.flat\n",
    "    for i, data in enumerate(dataset):                \n",
    "        ax[i].imshow(dataset[i], cmap='gray', vmin=0., vmax=1.)        \n",
    "        ax[i].set_title(f\"{label} {i}\")\n",
    "        ax[i].axis(\"off\")\n",
    "        \n",
    "        #ax[2].imshow(data[2], cmap='gray')        \n",
    "    plt.show()"
   ]
  },
  {
   "cell_type": "code",
   "execution_count": 11,
   "id": "c1861acd-e09c-4891-92b8-4d5c5d636793",
   "metadata": {},
   "outputs": [],
   "source": [
    "def display_triad(triad):\n",
    "    # Construct a figure for the original and new frames.\n",
    "    fig, axes = plt.subplots(1, 3, figsize=(20, 4))\n",
    "\n",
    "    # Plot the original frames.\n",
    "    for idx, ax in enumerate(axes):\n",
    "        ax.imshow(np.squeeze(triad[0][idx]), cmap=\"gray\")\n",
    "        ax.set_title(f\"OG {idx}\")\n",
    "        ax.axis(\"off\")\n",
    "    plt.show()"
   ]
  },
  {
   "cell_type": "code",
   "execution_count": 12,
   "id": "4a4b52e3-0222-4d62-ad73-05339b9ba11b",
   "metadata": {},
   "outputs": [],
   "source": [
    "def create_predict_triad(start_frame, end_frame):\n",
    "    frames = np.zeros((1, 3, 32, 32, 1))\n",
    "    frames[0][0] = start_frame\n",
    "    frames[0][1] = 1\n",
    "    frames[0][2] = end_frame\n",
    "    return frames"
   ]
  },
  {
   "cell_type": "code",
   "execution_count": 13,
   "id": "f78e4b24-6e77-4016-a867-1b6fcdb673f2",
   "metadata": {},
   "outputs": [],
   "source": [
    "def predict_animations(real_first_frame, real_last_frame):    \n",
    "    x = np.zeros((NUM_FRAMES, 32, 32, 1))    \n",
    "    x[0] = real_first_frame\n",
    "    x[len(x)-1] = real_last_frame\n",
    "    array = predict_recursively(x, 0, len(x)-1)\n",
    "    print(array.shape)\n",
    "    return array\n",
    "\n",
    "def predict_recursively(array, pos_start, pos_end):       \n",
    "    pos_middle = pos_end-((pos_end-pos_start)//2)\n",
    "    #print(pos_middle)\n",
    "    if not np.all(array[pos_middle] == 0):\n",
    "        #print(f\"Already predicted: {pos_middle}\")\n",
    "        return array\n",
    "    \n",
    "    if (pos_end - pos_start ) <= 1:\n",
    "        #print(\"End\")\n",
    "        return array\n",
    "        \n",
    "    new_icon_triad = create_predict_triad(array[pos_start], array[pos_end])    \n",
    "    new_predicted_triad = model.predict(new_icon_triad)\n",
    "    new_predicted_triad[0][0] = array[0]\n",
    "    new_predicted_triad[0][2] = array[len(array)-1]    \n",
    "    \"\"\"\n",
    "    check_triad = new_predicted_triad[0][1]\n",
    "    fig, axes = plt.subplots(1, 1, figsize=(5, 5))\n",
    "    axes.imshow(check_triad, cmap='gray')    \n",
    "    plt.show()\n",
    "    \"\"\"\n",
    "    #print(f\"start: {pos_start}, mid: {pos_middle}, end: {pos_end}\")\n",
    "    array[pos_middle] = new_predicted_triad[0][1]\n",
    "    if pos_middle == NUM_FRAMES // 2:\n",
    "        print(f\"{pos_start} {pos_middle}\")\n",
    "        \n",
    "    go_left = predict_recursively(array, pos_start, pos_middle)\n",
    "    go_right = predict_recursively(array, pos_middle, pos_end)\n",
    "    return np.max([go_left, go_right],axis=0)"
   ]
  },
  {
   "cell_type": "code",
   "execution_count": 20,
   "id": "f16fa493-c592-4428-bc12-3cd3525bd4fc",
   "metadata": {},
   "outputs": [
    {
     "name": "stdout",
     "output_type": "stream",
     "text": [
      "(3, 32, 32, 1)\n",
      "Model: \"sequential_4\"\n",
      "_________________________________________________________________\n",
      " Layer (type)                Output Shape              Param #   \n",
      "=================================================================\n",
      " conv3d_144 (Conv3D)         (None, 2, 16, 16, 64)     21952     \n",
      "                                                                 \n",
      " batch_normalization_144 (Ba  (None, 2, 16, 16, 64)    256       \n",
      " tchNormalization)                                               \n",
      "                                                                 \n",
      " activation_4 (Activation)   (None, 2, 16, 16, 64)     0         \n",
      "                                                                 \n",
      " max_pooling3d_4 (MaxPooling  (None, 1, 8, 8, 64)      0         \n",
      " 3D)                                                             \n",
      "                                                                 \n",
      " residual_unit_64 (ResidualU  (None, 1, 8, 8, 64)      221696    \n",
      " nit)                                                            \n",
      "                                                                 \n",
      " residual_unit_65 (ResidualU  (None, 1, 8, 8, 64)      221696    \n",
      " nit)                                                            \n",
      "                                                                 \n",
      " residual_unit_66 (ResidualU  (None, 1, 8, 8, 64)      221696    \n",
      " nit)                                                            \n",
      "                                                                 \n",
      " residual_unit_67 (ResidualU  (None, 1, 4, 4, 128)     673280    \n",
      " nit)                                                            \n",
      "                                                                 \n",
      " residual_unit_68 (ResidualU  (None, 1, 4, 4, 128)     885760    \n",
      " nit)                                                            \n",
      "                                                                 \n",
      " residual_unit_69 (ResidualU  (None, 1, 4, 4, 128)     885760    \n",
      " nit)                                                            \n",
      "                                                                 \n",
      " residual_unit_70 (ResidualU  (None, 1, 4, 4, 128)     885760    \n",
      " nit)                                                            \n",
      "                                                                 \n",
      " residual_unit_71 (ResidualU  (None, 1, 2, 2, 256)     2690048   \n",
      " nit)                                                            \n",
      "                                                                 \n",
      " residual_unit_72 (ResidualU  (None, 1, 2, 2, 256)     3540992   \n",
      " nit)                                                            \n",
      "                                                                 \n",
      " residual_unit_73 (ResidualU  (None, 1, 2, 2, 256)     3540992   \n",
      " nit)                                                            \n",
      "                                                                 \n",
      " residual_unit_74 (ResidualU  (None, 1, 2, 2, 256)     3540992   \n",
      " nit)                                                            \n",
      "                                                                 \n",
      " residual_unit_75 (ResidualU  (None, 1, 2, 2, 256)     3540992   \n",
      " nit)                                                            \n",
      "                                                                 \n",
      " residual_unit_76 (ResidualU  (None, 1, 2, 2, 256)     3540992   \n",
      " nit)                                                            \n",
      "                                                                 \n",
      " residual_unit_77 (ResidualU  (None, 1, 1, 1, 512)     10754048  \n",
      " nit)                                                            \n",
      "                                                                 \n",
      " residual_unit_78 (ResidualU  (None, 1, 1, 1, 512)     14159872  \n",
      " nit)                                                            \n",
      "                                                                 \n",
      " residual_unit_79 (ResidualU  (None, 1, 1, 1, 512)     14159872  \n",
      " nit)                                                            \n",
      "                                                                 \n",
      " conv3d_transpose_10 (Conv3D  (None, 1, 2, 2, 64)      4096064   \n",
      " Transpose)                                                      \n",
      "                                                                 \n",
      " conv3d_transpose_11 (Conv3D  (None, 1, 4, 4, 64)      512064    \n",
      " Transpose)                                                      \n",
      "                                                                 \n",
      " conv3d_transpose_12 (Conv3D  (None, 1, 8, 8, 64)      512064    \n",
      " Transpose)                                                      \n",
      "                                                                 \n",
      " conv3d_transpose_13 (Conv3D  (None, 1, 16, 16, 64)    512064    \n",
      " Transpose)                                                      \n",
      "                                                                 \n",
      " conv3d_transpose_14 (Conv3D  (None, 1, 32, 32, 64)    512064    \n",
      " Transpose)                                                      \n",
      "                                                                 \n",
      "=================================================================\n",
      "Total params: 69,630,976\n",
      "Trainable params: 69,613,952\n",
      "Non-trainable params: 17,024\n",
      "_________________________________________________________________\n"
     ]
    }
   ],
   "source": [
    "img_shape = x_train[0].shape\n",
    "print(img_shape)\n",
    "\n",
    "class ResidualUnit(keras.layers.Layer):\n",
    "    def __init__(self, filters, strides=1, activation='selu', **kwargs):\n",
    "        super().__init__(**kwargs)\n",
    "        self.activation = keras.activations.get(activation)\n",
    "        self.main_layers = [\n",
    "            keras.layers.Conv3D(filters, 3, strides=strides, padding='same', use_bias=False),\n",
    "            keras.layers.BatchNormalization(),\n",
    "            self.activation,\n",
    "            keras.layers.Conv3D(filters, 3, strides=1, padding='same', use_bias=False),\n",
    "            keras.layers.BatchNormalization()\n",
    "        ]\n",
    "        self.skip_layers = []\n",
    "        if strides > 1:\n",
    "            self.skip_layers = [\n",
    "                keras.layers.Conv3D(filters, 1, strides=strides, padding='same', use_bias=False),\n",
    "                keras.layers.BatchNormalization()\n",
    "            ]\n",
    "        \n",
    "    def call(self, inputs):\n",
    "        Z = inputs\n",
    "        for layer in self.main_layers:\n",
    "            Z = layer(Z)\n",
    "        skip_Z = inputs\n",
    "        for layer in self.skip_layers:\n",
    "            skip_Z = layer(skip_Z)\n",
    "        return self.activation(Z + skip_Z)\n",
    "\n",
    "def create_model():\n",
    "    model = Sequential()\n",
    "    model.add(Conv3D(64, 7, strides=2, input_shape=img_shape, padding=\"same\", use_bias=False))\n",
    "    model.add(BatchNormalization())\n",
    "    model.add(layers.Activation(\"selu\"))\n",
    "    model.add(keras.layers.MaxPool3D(pool_size=3, strides=2, padding=\"same\"))\n",
    "    prev_filters = 64\n",
    "    for filters in [64] * 3 + [128] * 4 + [256] * 6 + [512] * 3:\n",
    "        strides = 1 if filters == prev_filters else 2\n",
    "        model.add(ResidualUnit(filters, strides=strides))\n",
    "        prev_filters = filters\n",
    "    #model.add(keras.layers.GlobalAvgPool3D())\n",
    "    #model.add(keras.layers.Flatten())\n",
    "    model.add(Conv3DTranspose(64, 5, strides=(1, 2, 2), input_shape=img_shape, padding=\"same\"))    \n",
    "    model.add(Conv3DTranspose(64, 5, strides=(1, 2, 2), input_shape=img_shape, padding=\"same\"))    \n",
    "    model.add(Conv3DTranspose(64, 5, strides=(1, 2, 2), input_shape=img_shape, padding=\"same\"))    \n",
    "    model.add(Conv3DTranspose(64, 5, strides=(1, 2, 2), input_shape=img_shape, padding=\"same\"))    \n",
    "    model.add(Conv3DTranspose(64, 5, strides=(1, 2, 2), input_shape=img_shape, padding=\"same\"))    \n",
    "   # model.add(Dense(np.prod(img_shape), activation='tanh', name='Dense_Output'))  # Size of samples\n",
    "   # model.add(Reshape(img_shape))  # Reshape to our video sample dimensions    \n",
    "    model.compile(optimizer='adam', loss='mse')\n",
    "\n",
    "    return model\n",
    "\n",
    "model = create_model()\n",
    "model.summary()"
   ]
  },
  {
   "cell_type": "code",
   "execution_count": 21,
   "id": "ef77c045-b080-433f-939e-4cbf8c032b87",
   "metadata": {
    "pycharm": {
     "is_executing": true
    }
   },
   "outputs": [
    {
     "name": "stdout",
     "output_type": "stream",
     "text": [
      "(64000, 3, 32, 32, 1)\n",
      "Epoch 1/150\n",
      "500/500 [==============================] - 262s 518ms/step - loss: 0.0292 - val_loss: 0.0288 - lr: 0.0010\n",
      "Epoch 2/150\n",
      "500/500 [==============================] - 252s 504ms/step - loss: 0.0269 - val_loss: 0.0269 - lr: 0.0010\n",
      "Epoch 3/150\n",
      "500/500 [==============================] - 254s 507ms/step - loss: 0.0261 - val_loss: 0.0264 - lr: 0.0010\n",
      "Epoch 4/150\n",
      "500/500 [==============================] - 254s 509ms/step - loss: 0.0253 - val_loss: 0.0257 - lr: 0.0010\n",
      "Epoch 5/150\n",
      "500/500 [==============================] - 255s 510ms/step - loss: 0.0249 - val_loss: 0.0256 - lr: 0.0010\n",
      "Epoch 6/150\n",
      "500/500 [==============================] - 255s 509ms/step - loss: 0.0246 - val_loss: 0.0250 - lr: 0.0010\n",
      "Epoch 7/150\n",
      "500/500 [==============================] - 255s 509ms/step - loss: 0.0244 - val_loss: 0.0249 - lr: 0.0010\n",
      "Epoch 8/150\n",
      "500/500 [==============================] - 255s 510ms/step - loss: 0.0242 - val_loss: 0.0247 - lr: 0.0010\n",
      "Epoch 9/150\n",
      "500/500 [==============================] - 255s 509ms/step - loss: 0.0241 - val_loss: 0.0247 - lr: 0.0010\n",
      "Epoch 10/150\n",
      "500/500 [==============================] - 255s 510ms/step - loss: 0.0240 - val_loss: 0.0242 - lr: 0.0010\n",
      "Epoch 11/150\n",
      "500/500 [==============================] - 261s 523ms/step - loss: 0.0239 - val_loss: 0.0247 - lr: 0.0010\n",
      "Epoch 12/150\n",
      "500/500 [==============================] - 257s 515ms/step - loss: 0.0238 - val_loss: 0.0241 - lr: 0.0010\n",
      "Epoch 13/150\n",
      "500/500 [==============================] - 255s 509ms/step - loss: 0.0236 - val_loss: 0.0241 - lr: 0.0010\n",
      "Epoch 14/150\n",
      "500/500 [==============================] - 255s 510ms/step - loss: 0.0235 - val_loss: 0.0239 - lr: 0.0010\n",
      "Epoch 15/150\n",
      "500/500 [==============================] - 255s 509ms/step - loss: 0.0234 - val_loss: 0.0239 - lr: 0.0010\n",
      "Epoch 16/150\n",
      "500/500 [==============================] - 254s 509ms/step - loss: 0.0233 - val_loss: 0.0236 - lr: 0.0010\n",
      "Epoch 17/150\n",
      "500/500 [==============================] - 267s 533ms/step - loss: 0.0232 - val_loss: 0.0235 - lr: 0.0010\n",
      "Epoch 18/150\n",
      "500/500 [==============================] - 274s 548ms/step - loss: 0.0231 - val_loss: 0.0235 - lr: 0.0010\n",
      "Epoch 19/150\n",
      "500/500 [==============================] - 275s 549ms/step - loss: 0.0230 - val_loss: 0.0235 - lr: 0.0010\n",
      "Epoch 20/150\n",
      "500/500 [==============================] - 273s 546ms/step - loss: 0.0227 - val_loss: 0.0228 - lr: 1.0000e-04\n",
      "Epoch 21/150\n",
      "500/500 [==============================] - 279s 559ms/step - loss: 0.0227 - val_loss: 0.0228 - lr: 1.0000e-04\n",
      "Epoch 22/150\n",
      "500/500 [==============================] - 276s 552ms/step - loss: 0.0227 - val_loss: 0.0228 - lr: 1.0000e-04\n",
      "Epoch 23/150\n",
      "500/500 [==============================] - 277s 553ms/step - loss: 0.0226 - val_loss: 0.0227 - lr: 1.0000e-05\n",
      "Epoch 24/150\n",
      "500/500 [==============================] - 277s 555ms/step - loss: 0.0226 - val_loss: 0.0227 - lr: 1.0000e-05\n",
      "Epoch 25/150\n",
      "500/500 [==============================] - 279s 558ms/step - loss: 0.0226 - val_loss: 0.0227 - lr: 1.0000e-06\n",
      "Epoch 26/150\n",
      "500/500 [==============================] - 285s 569ms/step - loss: 0.0226 - val_loss: 0.0227 - lr: 1.0000e-06\n",
      "Epoch 27/150\n",
      "500/500 [==============================] - 278s 555ms/step - loss: 0.0226 - val_loss: 0.0227 - lr: 1.0000e-07\n",
      "Epoch 28/150\n",
      "500/500 [==============================] - 281s 562ms/step - loss: 0.0226 - val_loss: 0.0227 - lr: 1.0000e-07\n",
      "Epoch 29/150\n",
      "500/500 [==============================] - 321s 641ms/step - loss: 0.0226 - val_loss: 0.0227 - lr: 1.0000e-08\n",
      "Epoch 30/150\n",
      "500/500 [==============================] - 271s 543ms/step - loss: 0.0226 - val_loss: 0.0227 - lr: 1.0000e-08\n",
      "Epoch 31/150\n",
      "500/500 [==============================] - 284s 568ms/step - loss: 0.0226 - val_loss: 0.0227 - lr: 1.0000e-09\n",
      "Epoch 32/150\n",
      "500/500 [==============================] - 442s 883ms/step - loss: 0.0226 - val_loss: 0.0227 - lr: 1.0000e-09\n",
      "Epoch 33/150\n",
      "500/500 [==============================] - 287s 573ms/step - loss: 0.0226 - val_loss: 0.0227 - lr: 1.0000e-10\n",
      "--- 9014.013700246811 seconds ---\n"
     ]
    }
   ],
   "source": [
    "## Model Training\n",
    "#With our model and data constructed, we can now train the model.\n",
    "import time\n",
    "start_time = time.time()\n",
    "\n",
    "checkpoint_filepath = './savedModels/06_ani_ResNet-34_Recursive_v06.h5'\n",
    "# Define some callbacks to improve training.\n",
    "early_stopping = keras.callbacks.EarlyStopping(monitor=\"val_loss\", patience=3)\n",
    "reduce_lr = keras.callbacks.ReduceLROnPlateau(monitor=\"val_loss\", patience=2)\n",
    "model_checkpoint = keras.callbacks.ModelCheckpoint(checkpoint_filepath, monitor=\"val_loss\", save_best_only=True)\n",
    "\n",
    "# Define 1 training hyperparameters.\n",
    "epochs = 150\n",
    "batch_size = 128\n",
    "\n",
    "print(x_train.shape)\n",
    "# Fit the model to the training data.\n",
    "model.fit(x_train,y_train,batch_size=batch_size,epochs=epochs,validation_data=(x_val, y_val),callbacks=[early_stopping, reduce_lr])\n",
    "\n",
    "print(\"--- %s seconds ---\" % (time.time() - start_time))"
   ]
  },
  {
   "cell_type": "code",
   "execution_count": 26,
   "id": "c3cda5ac-7ea4-441f-88dd-5eb36c1104fb",
   "metadata": {},
   "outputs": [],
   "source": [
    "#model = tf.keras.models.load_model(checkpoint_filepath)"
   ]
  },
  {
   "cell_type": "code",
   "execution_count": 22,
   "id": "7868e542-0ce0-4af4-ae36-f114f910b9f7",
   "metadata": {},
   "outputs": [],
   "source": [
    "# Clamp images, else the predictions get very blurry\n",
    "# theta: threshold to decide where to clip values\n",
    "# epsilon: keep some values unclipped, to avoid too jagged edges\n",
    "def clamp_image_array(y_hat, theta=.3, epsilon=.1):        \n",
    "    y_hat_p = np.where(y_hat < theta - epsilon, 0, y_hat)\n",
    "    y_hat_p = np.where(y_hat_p >= theta + epsilon, 1, y_hat_p)\n",
    "    return y_hat_p"
   ]
  },
  {
   "cell_type": "code",
   "execution_count": 24,
   "id": "d163f09e-e8a6-43c4-8a7e-1f4a05e41079",
   "metadata": {},
   "outputs": [
    {
     "name": "stdout",
     "output_type": "stream",
     "text": [
      "10\n"
     ]
    },
    {
     "ename": "IndexError",
     "evalue": "index 2 is out of bounds for axis 0 with size 1",
     "output_type": "error",
     "traceback": [
      "\u001b[0;31m---------------------------------------------------------------------------\u001b[0m",
      "\u001b[0;31mIndexError\u001b[0m                                Traceback (most recent call last)",
      "Input \u001b[0;32mIn [24]\u001b[0m, in \u001b[0;36m<cell line: 3>\u001b[0;34m()\u001b[0m\n\u001b[1;32m      3\u001b[0m \u001b[38;5;28;01mfor\u001b[39;00m i \u001b[38;5;129;01min\u001b[39;00m good:\n\u001b[1;32m      4\u001b[0m     test_set \u001b[38;5;241m=\u001b[39m test_dataset[i]\n\u001b[0;32m----> 5\u001b[0m     y_hat \u001b[38;5;241m=\u001b[39m \u001b[43mpredict_animations\u001b[49m\u001b[43m(\u001b[49m\u001b[43mtest_set\u001b[49m\u001b[43m[\u001b[49m\u001b[38;5;241;43m0\u001b[39;49m\u001b[43m]\u001b[49m\u001b[43m,\u001b[49m\u001b[43m \u001b[49m\u001b[43mtest_set\u001b[49m\u001b[43m[\u001b[49m\u001b[38;5;28;43mlen\u001b[39;49m\u001b[43m(\u001b[49m\u001b[43mtest_set\u001b[49m\u001b[43m)\u001b[49m\u001b[38;5;241;43m-\u001b[39;49m\u001b[38;5;241;43m1\u001b[39;49m\u001b[43m]\u001b[49m\u001b[43m)\u001b[49m\n\u001b[1;32m      7\u001b[0m     display_original_animation(y_hat, \u001b[38;5;124m'\u001b[39m\u001b[38;5;124mŷ:\u001b[39m\u001b[38;5;124m'\u001b[39m)\n\u001b[1;32m      8\u001b[0m     display_original_animation(clamp_image_array(y_hat, theta\u001b[38;5;241m=\u001b[39m\u001b[38;5;241m.35\u001b[39m, epsilon\u001b[38;5;241m=\u001b[39m\u001b[38;5;241m0.15\u001b[39m), \u001b[38;5;124m'\u001b[39m\u001b[38;5;124mŷp:\u001b[39m\u001b[38;5;124m'\u001b[39m)\n",
      "Input \u001b[0;32mIn [13]\u001b[0m, in \u001b[0;36mpredict_animations\u001b[0;34m(real_first_frame, real_last_frame)\u001b[0m\n\u001b[1;32m      3\u001b[0m x[\u001b[38;5;241m0\u001b[39m] \u001b[38;5;241m=\u001b[39m real_first_frame\n\u001b[1;32m      4\u001b[0m x[\u001b[38;5;28mlen\u001b[39m(x)\u001b[38;5;241m-\u001b[39m\u001b[38;5;241m1\u001b[39m] \u001b[38;5;241m=\u001b[39m real_last_frame\n\u001b[0;32m----> 5\u001b[0m array \u001b[38;5;241m=\u001b[39m \u001b[43mpredict_recursively\u001b[49m\u001b[43m(\u001b[49m\u001b[43mx\u001b[49m\u001b[43m,\u001b[49m\u001b[43m \u001b[49m\u001b[38;5;241;43m0\u001b[39;49m\u001b[43m,\u001b[49m\u001b[43m \u001b[49m\u001b[38;5;28;43mlen\u001b[39;49m\u001b[43m(\u001b[49m\u001b[43mx\u001b[49m\u001b[43m)\u001b[49m\u001b[38;5;241;43m-\u001b[39;49m\u001b[38;5;241;43m1\u001b[39;49m\u001b[43m)\u001b[49m\n\u001b[1;32m      6\u001b[0m \u001b[38;5;28mprint\u001b[39m(array\u001b[38;5;241m.\u001b[39mshape)\n\u001b[1;32m      7\u001b[0m \u001b[38;5;28;01mreturn\u001b[39;00m array\n",
      "Input \u001b[0;32mIn [13]\u001b[0m, in \u001b[0;36mpredict_recursively\u001b[0;34m(array, pos_start, pos_end)\u001b[0m\n\u001b[1;32m     21\u001b[0m new_predicted_triad \u001b[38;5;241m=\u001b[39m model\u001b[38;5;241m.\u001b[39mpredict(new_icon_triad)\n\u001b[1;32m     22\u001b[0m new_predicted_triad[\u001b[38;5;241m0\u001b[39m][\u001b[38;5;241m0\u001b[39m] \u001b[38;5;241m=\u001b[39m array[\u001b[38;5;241m0\u001b[39m]\n\u001b[0;32m---> 23\u001b[0m new_predicted_triad[\u001b[38;5;241m0\u001b[39m][\u001b[38;5;241m2\u001b[39m] \u001b[38;5;241m=\u001b[39m array[\u001b[38;5;28mlen\u001b[39m(array)\u001b[38;5;241m-\u001b[39m\u001b[38;5;241m1\u001b[39m]    \n\u001b[1;32m     24\u001b[0m \u001b[38;5;124;03m\"\"\"\u001b[39;00m\n\u001b[1;32m     25\u001b[0m \u001b[38;5;124;03mcheck_triad = new_predicted_triad[0][1]\u001b[39;00m\n\u001b[1;32m     26\u001b[0m \u001b[38;5;124;03mfig, axes = plt.subplots(1, 1, figsize=(5, 5))\u001b[39;00m\n\u001b[1;32m     27\u001b[0m \u001b[38;5;124;03maxes.imshow(check_triad, cmap='gray')    \u001b[39;00m\n\u001b[1;32m     28\u001b[0m \u001b[38;5;124;03mplt.show()\u001b[39;00m\n\u001b[1;32m     29\u001b[0m \u001b[38;5;124;03m\"\"\"\u001b[39;00m\n\u001b[1;32m     30\u001b[0m \u001b[38;5;66;03m#print(f\"start: {pos_start}, mid: {pos_middle}, end: {pos_end}\")\u001b[39;00m\n",
      "\u001b[0;31mIndexError\u001b[0m: index 2 is out of bounds for axis 0 with size 1"
     ]
    }
   ],
   "source": [
    "good = [22, 44, 52, 64, 73, 76, 94]\n",
    "for i in good:\n",
    "    test_set = test_dataset[i]\n",
    "    y_hat = predict_animations(test_set[0], test_set[len(test_set)-1])\n",
    "    \n",
    "    display_original_animation(y_hat, 'ŷ:')\n",
    "    display_original_animation(clamp_image_array(y_hat, theta=.35, epsilon=0.15), 'ŷp:')\n",
    "    display_original_animation(test_set, 'y:')"
   ]
  }
 ],
 "metadata": {
  "kernelspec": {
   "display_name": "Python 3 (ipykernel)",
   "language": "python",
   "name": "python3"
  },
  "language_info": {
   "codemirror_mode": {
    "name": "ipython",
    "version": 3
   },
   "file_extension": ".py",
   "mimetype": "text/x-python",
   "name": "python",
   "nbconvert_exporter": "python",
   "pygments_lexer": "ipython3",
   "version": "3.10.5"
  }
 },
 "nbformat": 4,
 "nbformat_minor": 5
}
