{
 "cells": [
  {
   "cell_type": "code",
   "execution_count": 1,
   "id": "2eb706f3-ecb5-489c-b1f3-aeae72a8f6a6",
   "metadata": {},
   "outputs": [],
   "source": [
    "import numpy as np\n",
    "from numpy import array\n",
    "import tensorflow as tf\n",
    "from tensorflow import keras\n",
    "from tensorflow.keras import layers\n",
    "import os\n",
    "import matplotlib.pyplot as plt\n",
    "from tensorflow.keras.models import Sequential, load_model, Model, save_model\n",
    "from tensorflow.keras.layers import Dense, Activation, Flatten, Conv3D, Conv2D, Conv1D, Dropout, MaxPooling2D, LeakyReLU, BatchNormalization, Reshape, InputLayer, Input, ZeroPadding3D, ZeroPadding2D, UpSampling2D, UpSampling3D, MaxPool3D, MaxPooling3D, Dropout\n",
    "from tensorflow.keras.optimizers import Adam\n",
    "from tensorflow import keras\n",
    "from matplotlib import pyplot\n",
    "from tensorflow.keras.datasets import cifar10\n",
    "from tensorflow.keras.utils import to_categorical\n",
    "from tensorflow.keras.models import Sequential\n",
    "from tensorflow.keras.layers import Conv2D\n",
    "from tensorflow.keras.layers import MaxPooling2D\n",
    "from tensorflow.keras.layers import Dense\n",
    "from tensorflow.keras.layers import Flatten\n",
    "from tensorflow.keras.optimizers import SGD\n",
    "import sys\n",
    "\n",
    "NUM_FRAMES = 10\n",
    "RESOLUTION = 32\n",
    "CHANNELS = 1\n",
    "\n",
    "os.environ['TF_CPP_MIN_LOG_LEVEL'] = '2'  # or any {'0', '1', '2'}"
   ]
  },
  {
   "cell_type": "code",
   "execution_count": 2,
   "id": "a0c93982-6fe3-4d83-82fb-5a1c20a1c9ef",
   "metadata": {},
   "outputs": [],
   "source": [
    "# Display animation\n",
    "def display_original_animation(dataset, label=''):             \n",
    "    fig, axes = plt.subplots(1, NUM_FRAMES, figsize=(25, 5))\n",
    "    ax = axes.flat\n",
    "    for i, data in enumerate(dataset[:NUM_FRAMES]):                \n",
    "        ax[i].imshow(dataset[i], cmap='gray', vmin=0., vmax=1.)        \n",
    "        ax[i].set_title(f\"{label} {i}\", fontsize=32)\n",
    "        ax[i].axis(\"off\")      \n",
    "    plt.show()"
   ]
  },
  {
   "cell_type": "code",
   "execution_count": 3,
   "id": "c1861acd-e09c-4891-92b8-4d5c5d636793",
   "metadata": {},
   "outputs": [],
   "source": [
    "def display_triad(triad):\n",
    "    # Construct a figure for the original and new frames.\n",
    "    fig, axes = plt.subplots(1, 3, figsize=(20, 4))\n",
    "\n",
    "    # Plot the original frames.\n",
    "    for idx, ax in enumerate(axes):\n",
    "        ax.imshow(np.squeeze(triad[0][idx]), cmap=\"gray\")\n",
    "        ax.set_title(f\"OG {idx}\")\n",
    "        ax.axis(\"off\")\n",
    "    plt.show()"
   ]
  },
  {
   "cell_type": "code",
   "execution_count": 4,
   "id": "4a4b52e3-0222-4d62-ad73-05339b9ba11b",
   "metadata": {},
   "outputs": [],
   "source": [
    "def create_predict_triad(start_frame, end_frame):\n",
    "    frames = np.zeros((1, 3, 32, 32, 1))\n",
    "    frames[0][0] = start_frame\n",
    "    frames[0][1] = 1\n",
    "    frames[0][2] = end_frame\n",
    "    return frames"
   ]
  },
  {
   "cell_type": "code",
   "execution_count": 5,
   "id": "f78e4b24-6e77-4016-a867-1b6fcdb673f2",
   "metadata": {},
   "outputs": [],
   "source": [
    "def predict_animations(real_first_frame, real_last_frame):    \n",
    "    x = np.zeros((NUM_FRAMES, 32, 32, 1))    \n",
    "    x[0] = real_first_frame\n",
    "    x[len(x)-1] = real_last_frame\n",
    "    array = predict_recursively(x, 0, len(x)-1)\n",
    "    print(array.shape)\n",
    "    return array\n",
    "\n",
    "def predict_recursively(array, pos_start, pos_end):       \n",
    "    pos_middle = pos_end-((pos_end-pos_start)//2)\n",
    "    #print(pos_middle)\n",
    "    if not np.all(array[pos_middle] == 0):\n",
    "        #print(f\"Already predicted: {pos_middle}\")\n",
    "        return array\n",
    "    \n",
    "    if (pos_end - pos_start ) <= 1:\n",
    "        #print(\"End\")\n",
    "        return array\n",
    "        \n",
    "    new_icon_triad = create_predict_triad(array[pos_start], array[pos_end])    \n",
    "    new_predicted_triad = model.predict(new_icon_triad)\n",
    "    new_predicted_triad[0][0] = array[0]\n",
    "    new_predicted_triad[0][2] = array[len(array)-1]    \n",
    "    \"\"\"\n",
    "    check_triad = new_predicted_triad[0][1]\n",
    "    fig, axes = plt.subplots(1, 1, figsize=(5, 5))\n",
    "    axes.imshow(check_triad, cmap='gray')    \n",
    "    plt.show()\n",
    "    \"\"\"\n",
    "    #print(f\"start: {pos_start}, mid: {pos_middle}, end: {pos_end}\")\n",
    "    array[pos_middle] = new_predicted_triad[0][1]\n",
    "    if pos_middle == NUM_FRAMES // 2:\n",
    "        print(f\"{pos_start} {pos_middle}\")\n",
    "        \n",
    "    go_left = predict_recursively(array, pos_start, pos_middle)\n",
    "    go_right = predict_recursively(array, pos_middle, pos_end)\n",
    "    return np.max([go_left, go_right],axis=0)"
   ]
  },
  {
   "cell_type": "code",
   "execution_count": 6,
   "id": "ef77c045-b080-433f-939e-4cbf8c032b87",
   "metadata": {
    "pycharm": {
     "is_executing": true
    }
   },
   "outputs": [],
   "source": [
    "checkpoint_filepath = './savedModels/02_akaNet_Recursive_v12_skip_2_subUp_inside_GOOD.h5'"
   ]
  },
  {
   "cell_type": "code",
   "execution_count": 7,
   "id": "c3cda5ac-7ea4-441f-88dd-5eb36c1104fb",
   "metadata": {},
   "outputs": [],
   "source": [
    "\"\"\"Epoch 18/500\n",
    "1250/1250 [==============================] - 328s 263ms/step - loss: 0.0055 - accuracy: 0.9300 - val_loss: 0.0055 - val_accuracy: 0.9298 - lr: 1.0000e-08\n",
    "--- 5876.789655208588 seconds ---\"\"\"\n",
    "import pickle\n",
    "checkpoint_filepath = './savedModels/03_Recursive_conv_vae_v04_04_layerNorm.pickle'\n",
    "with open(checkpoint_filepath, \"rb\") as load_file:    \n",
    "    model = pickle.load(load_file)"
   ]
  },
  {
   "cell_type": "code",
   "execution_count": 8,
   "id": "7868e542-0ce0-4af4-ae36-f114f910b9f7",
   "metadata": {},
   "outputs": [],
   "source": [
    "# Clamp images, else the predictions get very blurry\n",
    "# theta: threshold to decide where to clip values\n",
    "# epsilon: keep some values unclipped, to avoid too jagged edges\n",
    "def clamp_image_array(y_hat, theta=.3, epsilon=.1):        \n",
    "    y_hat_p = np.where(y_hat < theta - epsilon, 0, y_hat)\n",
    "    y_hat_p = np.where(y_hat_p >= theta + epsilon, 1, y_hat_p)\n",
    "    return y_hat_p"
   ]
  },
  {
   "cell_type": "code",
   "execution_count": 9,
   "id": "faaf63e8-6028-445b-af52-d4cc9c68135a",
   "metadata": {},
   "outputs": [
    {
     "name": "stdout",
     "output_type": "stream",
     "text": [
      "(64, 64, 4)\n"
     ]
    },
    {
     "data": {
      "text/plain": [
       "<matplotlib.image.AxesImage at 0x7f2818701fc0>"
      ]
     },
     "execution_count": 9,
     "metadata": {},
     "output_type": "execute_result"
    },
    {
     "data": {
      "image/png": "[encoded data removed]",
      "text/plain": [
       "<Figure size 432x288 with 1 Axes>"
      ]
     },
     "metadata": {
      "needs_background": "light"
     },
     "output_type": "display_data"
    }
   ],
   "source": [
    "start_raster_graphic = plt.imread('/home/vossi/Documents/Master_Thesis/custom_digits/35_start_inv_thicker.png')\n",
    "end_raster_graphic = plt.imread('/home/vossi/Documents/Master_Thesis/custom_digits/35_end_inv_thicker.png')\n",
    "start_frame = np.array(start_raster_graphic)\n",
    "end_frame = np.array(end_raster_graphic)\n",
    "print(start_frame.shape)\n",
    "start_frame = start_frame[::2, ::2, :1]  \n",
    "end_frame = end_frame[::2, ::2, :1]  \n",
    "\n",
    "plt.imshow(start_frame, cmap='gray')"
   ]
  },
  {
   "cell_type": "code",
   "execution_count": 10,
   "id": "32985537-5de8-4b5b-8c4d-5aa28d91b2ad",
   "metadata": {},
   "outputs": [
    {
     "data": {
      "text/plain": [
       "<matplotlib.image.AxesImage at 0x7f28b0f30070>"
      ]
     },
     "execution_count": 10,
     "metadata": {},
     "output_type": "execute_result"
    },
    {
     "data": {
      "image/png": "[encoded data removed]",
      "text/plain": [
       "<Figure size 432x288 with 1 Axes>"
      ]
     },
     "metadata": {
      "needs_background": "light"
     },
     "output_type": "display_data"
    }
   ],
   "source": [
    "plt.imshow(end_frame, cmap='gray')"
   ]
  },
  {
   "cell_type": "code",
   "execution_count": 11,
   "id": "d163f09e-e8a6-43c4-8a7e-1f4a05e41079",
   "metadata": {},
   "outputs": [
    {
     "name": "stdout",
     "output_type": "stream",
     "text": [
      "0 5\n",
      "(10, 32, 32, 1)\n"
     ]
    },
    {
     "data": {
      "image/png": "[encoded data removed]",
      "text/plain": [
       "<Figure size 1800x360 with 10 Axes>"
      ]
     },
     "metadata": {
      "needs_background": "light"
     },
     "output_type": "display_data"
    },
    {
     "data": {
      "image/png": "[encoded data removed]",
      "text/plain": [
       "<Figure size 1800x360 with 10 Axes>"
      ]
     },
     "metadata": {
      "needs_background": "light"
     },
     "output_type": "display_data"
    }
   ],
   "source": [
    "y_hat = predict_animations(start_frame, end_frame)\n",
    "\n",
    "display_original_animation(y_hat)\n",
    "display_original_animation(clamp_image_array(y_hat, theta=.3, epsilon=0.05))"
   ]
  }
 ],
 "metadata": {
  "kernelspec": {
   "display_name": "Python 3 (ipykernel)",
   "language": "python",
   "name": "python3"
  },
  "language_info": {
   "codemirror_mode": {
    "name": "ipython",
    "version": 3
   },
   "file_extension": ".py",
   "mimetype": "text/x-python",
   "name": "python",
   "nbconvert_exporter": "python",
   "pygments_lexer": "ipython3",
   "version": "3.10.5"
  }
 },
 "nbformat": 4,
 "nbformat_minor": 5
}
